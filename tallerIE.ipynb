{
  "nbformat": 4,
  "nbformat_minor": 0,
  "metadata": {
    "colab": {
      "provenance": [],
      "include_colab_link": true
    },
    "kernelspec": {
      "name": "ir",
      "display_name": "R"
    },
    "language_info": {
      "name": "R"
    }
  },
  "cells": [
    {
      "cell_type": "markdown",
      "metadata": {
        "id": "view-in-github",
        "colab_type": "text"
      },
      "source": [
        "<a href=\"https://colab.research.google.com/github/DiegoRuP/Encriptador-de-texto/blob/main/tallerIE.ipynb\" target=\"_parent\"><img src=\"https://colab.research.google.com/assets/colab-badge.svg\" alt=\"Open In Colab\"/></a>"
      ]
    },
    {
      "cell_type": "markdown",
      "source": [
        "# Problema\n",
        "\n",
        "## Analisis de dataset \"Cyber Security Attacks\"\n",
        "\n",
        "El problema que abordaremos será la identificación de los tipos de ataques, estos ataques recopilados son **Malware**, **DDoS** e **Intrusión**, cada uno una cantidad distinta de severidad o gravedad desde **baja**, **media** y **alta**. Podemos además conocer su ubicación geografica para conocer en que zona del planeta se concentran mayor cantidad de ataques.\n",
        "\n",
        "La base de datos que empleamos está disponible en [Kaggle - Cyber Security Attacks](https://www.kaggle.com/datasets/teamincribo/cyber-security-attacks?resource=download).\n",
        "\n",
        "## Formulación de pregunta o hipótesis\n",
        "\n",
        "\n",
        "- $H_0$: **Existe** una correlación significativa entre el tipo de ataque y el nivel de severidad.\n",
        "- $H_A$: **No existe** una correlación significativa entre el tipo de ataque y el nivel de severidad.\n",
        "\n",
        "Considere que en la base de datos:\n",
        "- El tipo de ataque esta codificado por **Attack.Type.Num**\n",
        "- La severidad de ataque está codificado por **Severity.Level.Num**\n",
        "\n",
        "## Objetivo\n",
        "\n",
        "Determinar la correlación entre los **tipos de ataques** con el **grado de severidad**.\n",
        "\n",
        "## Equipo\n",
        "\n",
        "- Diana Paola Narváez Martínez\n",
        "- Diego Ruan Padilla\n",
        "\n"
      ],
      "metadata": {
        "id": "on_G53JmRXZG"
      }
    },
    {
      "cell_type": "markdown",
      "source": [
        "# Carga de librerías"
      ],
      "metadata": {
        "id": "MQjUUTyERiVo"
      }
    },
    {
      "cell_type": "code",
      "source": [
        "#install.packages(\"tidyverse\")\n",
        "#install.packages(\"psych\")\n",
        "\n",
        "library(tidyverse, psych)"
      ],
      "metadata": {
        "id": "G1LiqDTkM7Pk",
        "colab": {
          "base_uri": "https://localhost:8080/"
        },
        "outputId": "6f703d59-3d67-4ffd-a0b0-b041426b63ee"
      },
      "execution_count": null,
      "outputs": [
        {
          "output_type": "stream",
          "name": "stderr",
          "text": [
            "Installing package into ‘/usr/local/lib/R/site-library’\n",
            "(as ‘lib’ is unspecified)\n",
            "\n",
            "also installing the dependencies ‘plyr’, ‘lazyeval’, ‘crosstalk’, ‘productplots’, ‘plotly’, ‘ggrepel’\n",
            "\n",
            "\n"
          ]
        }
      ]
    },
    {
      "cell_type": "markdown",
      "source": [
        "# Carga de datos"
      ],
      "metadata": {
        "id": "Ezt26W5eRlKn"
      }
    },
    {
      "cell_type": "markdown",
      "source": [
        "## Lectura de la base de datos y asignación a las columnas"
      ],
      "metadata": {
        "id": "KDFkimKbSndm"
      }
    },
    {
      "cell_type": "markdown",
      "source": [
        "Se realizó la lectura de nuestro archivo y se asigna a una variable df, posterior a eso se realiza una variable"
      ],
      "metadata": {
        "id": "manY-_7EsYyy"
      }
    },
    {
      "cell_type": "code",
      "execution_count": null,
      "metadata": {
        "id": "O0fJ5yBYPunW",
        "collapsed": true,
        "colab": {
          "base_uri": "https://localhost:8080/"
        },
        "outputId": "0bee2a5f-8e3d-4b0f-a857-d39d26bb1d43"
      },
      "outputs": [
        {
          "output_type": "stream",
          "name": "stderr",
          "text": [
            "The following objects are masked from df (pos = 3):\n",
            "\n",
            "    Action.Taken, Alerts.Warnings, Anomaly.Scores, Attack.Signature,\n",
            "    Attack.Type, Destination.IP.Address, Destination.Port,\n",
            "    Device.Information, Firewall.Logs, Geo.location.Data,\n",
            "    IDS.IPS.Alerts, Log.Source, Malware.Indicators, Network.Segment,\n",
            "    Packet.Length, Packet.Type, Payload.Data, Protocol,\n",
            "    Proxy.Information, Severity.Level, Source.IP.Address, Source.Port,\n",
            "    Timestamp, Traffic.Type, User.Information\n",
            "\n",
            "\n",
            "The following objects are masked from df (pos = 4):\n",
            "\n",
            "    Action.Taken, Alerts.Warnings, Anomaly.Scores, Attack.Signature,\n",
            "    Attack.Type, Destination.IP.Address, Destination.Port,\n",
            "    Device.Information, Firewall.Logs, Geo.location.Data,\n",
            "    IDS.IPS.Alerts, Log.Source, Malware.Indicators, Network.Segment,\n",
            "    Packet.Length, Packet.Type, Payload.Data, Protocol,\n",
            "    Proxy.Information, Severity.Level, Source.IP.Address, Source.Port,\n",
            "    Timestamp, Traffic.Type, User.Information\n",
            "\n",
            "\n",
            "The following objects are masked from df (pos = 16):\n",
            "\n",
            "    Action.Taken, Alerts.Warnings, Anomaly.Scores, Attack.Signature,\n",
            "    Attack.Type, Destination.IP.Address, Destination.Port,\n",
            "    Device.Information, Firewall.Logs, Geo.location.Data,\n",
            "    IDS.IPS.Alerts, Log.Source, Malware.Indicators, Network.Segment,\n",
            "    Packet.Length, Packet.Type, Payload.Data, Protocol,\n",
            "    Proxy.Information, Severity.Level, Source.IP.Address, Source.Port,\n",
            "    Timestamp, Traffic.Type, User.Information\n",
            "\n",
            "\n"
          ]
        }
      ],
      "source": [
        "df <- read.csv(\"/content/cybersecurity_attacks.csv\")\n",
        "attach(df)"
      ]
    },
    {
      "cell_type": "markdown",
      "source": [
        "# Análisis"
      ],
      "metadata": {
        "id": "NdCA3X0FRpks"
      }
    },
    {
      "cell_type": "markdown",
      "source": [
        "A continuación podemos denotar las variables contenidas dentro de la base de datos."
      ],
      "metadata": {
        "id": "JjCjavobs0rc"
      }
    },
    {
      "cell_type": "code",
      "source": [
        "names(df)"
      ],
      "metadata": {
        "colab": {
          "base_uri": "https://localhost:8080/",
          "height": 69
        },
        "id": "ONPRu25jVTdT",
        "outputId": "064939f3-e21b-4c4c-9c61-9f9679066a83"
      },
      "execution_count": null,
      "outputs": [
        {
          "output_type": "display_data",
          "data": {
            "text/html": [
              "<style>\n",
              ".list-inline {list-style: none; margin:0; padding: 0}\n",
              ".list-inline>li {display: inline-block}\n",
              ".list-inline>li:not(:last-child)::after {content: \"\\00b7\"; padding: 0 .5ex}\n",
              "</style>\n",
              "<ol class=list-inline><li>'Timestamp'</li><li>'Source.IP.Address'</li><li>'Destination.IP.Address'</li><li>'Source.Port'</li><li>'Destination.Port'</li><li>'Protocol'</li><li>'Packet.Length'</li><li>'Packet.Type'</li><li>'Traffic.Type'</li><li>'Payload.Data'</li><li>'Malware.Indicators'</li><li>'Anomaly.Scores'</li><li>'Alerts.Warnings'</li><li>'Attack.Type'</li><li>'Attack.Signature'</li><li>'Action.Taken'</li><li>'Severity.Level'</li><li>'User.Information'</li><li>'Device.Information'</li><li>'Network.Segment'</li><li>'Geo.location.Data'</li><li>'Proxy.Information'</li><li>'Firewall.Logs'</li><li>'IDS.IPS.Alerts'</li><li>'Log.Source'</li></ol>\n"
            ],
            "text/markdown": "1. 'Timestamp'\n2. 'Source.IP.Address'\n3. 'Destination.IP.Address'\n4. 'Source.Port'\n5. 'Destination.Port'\n6. 'Protocol'\n7. 'Packet.Length'\n8. 'Packet.Type'\n9. 'Traffic.Type'\n10. 'Payload.Data'\n11. 'Malware.Indicators'\n12. 'Anomaly.Scores'\n13. 'Alerts.Warnings'\n14. 'Attack.Type'\n15. 'Attack.Signature'\n16. 'Action.Taken'\n17. 'Severity.Level'\n18. 'User.Information'\n19. 'Device.Information'\n20. 'Network.Segment'\n21. 'Geo.location.Data'\n22. 'Proxy.Information'\n23. 'Firewall.Logs'\n24. 'IDS.IPS.Alerts'\n25. 'Log.Source'\n\n\n",
            "text/latex": "\\begin{enumerate*}\n\\item 'Timestamp'\n\\item 'Source.IP.Address'\n\\item 'Destination.IP.Address'\n\\item 'Source.Port'\n\\item 'Destination.Port'\n\\item 'Protocol'\n\\item 'Packet.Length'\n\\item 'Packet.Type'\n\\item 'Traffic.Type'\n\\item 'Payload.Data'\n\\item 'Malware.Indicators'\n\\item 'Anomaly.Scores'\n\\item 'Alerts.Warnings'\n\\item 'Attack.Type'\n\\item 'Attack.Signature'\n\\item 'Action.Taken'\n\\item 'Severity.Level'\n\\item 'User.Information'\n\\item 'Device.Information'\n\\item 'Network.Segment'\n\\item 'Geo.location.Data'\n\\item 'Proxy.Information'\n\\item 'Firewall.Logs'\n\\item 'IDS.IPS.Alerts'\n\\item 'Log.Source'\n\\end{enumerate*}\n",
            "text/plain": [
              " [1] \"Timestamp\"              \"Source.IP.Address\"      \"Destination.IP.Address\"\n",
              " [4] \"Source.Port\"            \"Destination.Port\"       \"Protocol\"              \n",
              " [7] \"Packet.Length\"          \"Packet.Type\"            \"Traffic.Type\"          \n",
              "[10] \"Payload.Data\"           \"Malware.Indicators\"     \"Anomaly.Scores\"        \n",
              "[13] \"Alerts.Warnings\"        \"Attack.Type\"            \"Attack.Signature\"      \n",
              "[16] \"Action.Taken\"           \"Severity.Level\"         \"User.Information\"      \n",
              "[19] \"Device.Information\"     \"Network.Segment\"        \"Geo.location.Data\"     \n",
              "[22] \"Proxy.Information\"      \"Firewall.Logs\"          \"IDS.IPS.Alerts\"        \n",
              "[25] \"Log.Source\"            "
            ]
          },
          "metadata": {}
        }
      ]
    },
    {
      "cell_type": "markdown",
      "source": [
        "Realizamos un ajuste de los datos para obtener variables numericas a traves de las categoricas y guardamos en otra df, los cuales equivalen a lo siguiente:\n",
        "\n",
        "*Tipo de ataque:*\n",
        "\n",
        "- 0 - Malware\n",
        "- 1 - DDoS\n",
        "- 2 - Intrusión\n",
        "\n",
        "*Nivel de severidad*\n",
        "\n",
        "- 0 - Low\n",
        "- 1 - Medium\n",
        "- 2 - High\n",
        "\n",
        "\n",
        "\n",
        "\n",
        "\n"
      ],
      "metadata": {
        "id": "8ID3Qmb0s57R"
      }
    },
    {
      "cell_type": "code",
      "source": [
        "df2 <- df %>%\n",
        "  mutate(Attack.Type.Num = case_when(\n",
        "    Attack.Type == \"Malware\" ~ 0,\n",
        "    Attack.Type == \"DDoS\" ~ 1,\n",
        "    Attack.Type == \"Intrusion\" ~ 2,\n",
        "    TRUE ~ 3\n",
        "  )) %>%\n",
        "    mutate(Severity.Level.Num = case_when(\n",
        "    Severity.Level == \"Low\" ~ 0,\n",
        "    Severity.Level == \"Medium\" ~ 1,\n",
        "    Severity.Level == \"High\" ~ 2,\n",
        "    TRUE ~ 3\n",
        "    )) %>%\n",
        "      select(Timestamp,Attack.Type.Num,Severity.Level.Num, Geo.location.Data)\n",
        "attach(df2)"
      ],
      "metadata": {
        "id": "0YcN0H8Joepd",
        "colab": {
          "base_uri": "https://localhost:8080/"
        },
        "outputId": "dac299c5-83f2-4192-de12-f5ad3064e340"
      },
      "execution_count": null,
      "outputs": [
        {
          "output_type": "stream",
          "name": "stderr",
          "text": [
            "The following objects are masked from df (pos = 3):\n",
            "\n",
            "    Geo.location.Data, Timestamp\n",
            "\n",
            "\n",
            "The following objects are masked from df (pos = 4):\n",
            "\n",
            "    Geo.location.Data, Timestamp\n",
            "\n",
            "\n",
            "The following objects are masked from df (pos = 5):\n",
            "\n",
            "    Geo.location.Data, Timestamp\n",
            "\n",
            "\n",
            "The following objects are masked from df (pos = 6):\n",
            "\n",
            "    Geo.location.Data, Timestamp\n",
            "\n",
            "\n",
            "The following objects are masked from df (pos = 18):\n",
            "\n",
            "    Geo.location.Data, Timestamp\n",
            "\n",
            "\n"
          ]
        }
      ]
    },
    {
      "cell_type": "markdown",
      "source": [
        "Una muestra de los datos despues de utilizar la funcion mutate()"
      ],
      "metadata": {
        "id": "uhcPVFojyN9C"
      }
    },
    {
      "cell_type": "code",
      "source": [
        "df2 %>%\n",
        "  head()"
      ],
      "metadata": {
        "colab": {
          "base_uri": "https://localhost:8080/",
          "height": 286
        },
        "id": "Po7mcMUepqwB",
        "outputId": "d621b686-6885-4fb3-927d-c0f1a773c783"
      },
      "execution_count": null,
      "outputs": [
        {
          "output_type": "display_data",
          "data": {
            "text/html": [
              "<table class=\"dataframe\">\n",
              "<caption>A data.frame: 6 × 4</caption>\n",
              "<thead>\n",
              "\t<tr><th></th><th scope=col>Timestamp</th><th scope=col>Attack.Type.Num</th><th scope=col>Severity.Level.Num</th><th scope=col>Geo.location.Data</th></tr>\n",
              "\t<tr><th></th><th scope=col>&lt;chr&gt;</th><th scope=col>&lt;dbl&gt;</th><th scope=col>&lt;dbl&gt;</th><th scope=col>&lt;chr&gt;</th></tr>\n",
              "</thead>\n",
              "<tbody>\n",
              "\t<tr><th scope=row>1</th><td>2023-05-30 06:33:58</td><td>0</td><td>0</td><td>Jamshedpur, Sikkim   </td></tr>\n",
              "\t<tr><th scope=row>2</th><td>2020-08-26 07:08:30</td><td>0</td><td>0</td><td>Bilaspur, Nagaland   </td></tr>\n",
              "\t<tr><th scope=row>3</th><td>2022-11-13 08:23:25</td><td>1</td><td>0</td><td>Bokaro, Rajasthan    </td></tr>\n",
              "\t<tr><th scope=row>4</th><td>2023-07-02 10:38:46</td><td>0</td><td>1</td><td>Jaunpur, Rajasthan   </td></tr>\n",
              "\t<tr><th scope=row>5</th><td>2023-07-16 13:11:07</td><td>1</td><td>0</td><td>Anantapur, Tripura   </td></tr>\n",
              "\t<tr><th scope=row>6</th><td>2022-10-28 13:14:27</td><td>0</td><td>1</td><td>Aurangabad, Meghalaya</td></tr>\n",
              "</tbody>\n",
              "</table>\n"
            ],
            "text/markdown": "\nA data.frame: 6 × 4\n\n| <!--/--> | Timestamp &lt;chr&gt; | Attack.Type.Num &lt;dbl&gt; | Severity.Level.Num &lt;dbl&gt; | Geo.location.Data &lt;chr&gt; |\n|---|---|---|---|---|\n| 1 | 2023-05-30 06:33:58 | 0 | 0 | Jamshedpur, Sikkim    |\n| 2 | 2020-08-26 07:08:30 | 0 | 0 | Bilaspur, Nagaland    |\n| 3 | 2022-11-13 08:23:25 | 1 | 0 | Bokaro, Rajasthan     |\n| 4 | 2023-07-02 10:38:46 | 0 | 1 | Jaunpur, Rajasthan    |\n| 5 | 2023-07-16 13:11:07 | 1 | 0 | Anantapur, Tripura    |\n| 6 | 2022-10-28 13:14:27 | 0 | 1 | Aurangabad, Meghalaya |\n\n",
            "text/latex": "A data.frame: 6 × 4\n\\begin{tabular}{r|llll}\n  & Timestamp & Attack.Type.Num & Severity.Level.Num & Geo.location.Data\\\\\n  & <chr> & <dbl> & <dbl> & <chr>\\\\\n\\hline\n\t1 & 2023-05-30 06:33:58 & 0 & 0 & Jamshedpur, Sikkim   \\\\\n\t2 & 2020-08-26 07:08:30 & 0 & 0 & Bilaspur, Nagaland   \\\\\n\t3 & 2022-11-13 08:23:25 & 1 & 0 & Bokaro, Rajasthan    \\\\\n\t4 & 2023-07-02 10:38:46 & 0 & 1 & Jaunpur, Rajasthan   \\\\\n\t5 & 2023-07-16 13:11:07 & 1 & 0 & Anantapur, Tripura   \\\\\n\t6 & 2022-10-28 13:14:27 & 0 & 1 & Aurangabad, Meghalaya\\\\\n\\end{tabular}\n",
            "text/plain": [
              "  Timestamp           Attack.Type.Num Severity.Level.Num Geo.location.Data    \n",
              "1 2023-05-30 06:33:58 0               0                  Jamshedpur, Sikkim   \n",
              "2 2020-08-26 07:08:30 0               0                  Bilaspur, Nagaland   \n",
              "3 2022-11-13 08:23:25 1               0                  Bokaro, Rajasthan    \n",
              "4 2023-07-02 10:38:46 0               1                  Jaunpur, Rajasthan   \n",
              "5 2023-07-16 13:11:07 1               0                  Anantapur, Tripura   \n",
              "6 2022-10-28 13:14:27 0               1                  Aurangabad, Meghalaya"
            ]
          },
          "metadata": {}
        }
      ]
    },
    {
      "cell_type": "markdown",
      "source": [
        "Realizamos un analisis de frecuencias para verificar correlación de la severidad de los ataques y el tipo de ataque"
      ],
      "metadata": {
        "id": "OhqKhGuDyVHJ"
      }
    },
    {
      "cell_type": "code",
      "source": [
        "table(Attack.Type.Num, Severity.Level.Num)"
      ],
      "metadata": {
        "colab": {
          "base_uri": "https://localhost:8080/",
          "height": 106
        },
        "id": "Wo5dqXX8xM6F",
        "outputId": "c32f9cc6-9824-4124-d696-82ad399731ca"
      },
      "execution_count": null,
      "outputs": [
        {
          "output_type": "display_data",
          "data": {
            "text/plain": [
              "               Severity.Level.Num\n",
              "Attack.Type.Num    0    1    2\n",
              "              0 4359 4516 4432\n",
              "              1 4450 4455 4523\n",
              "              2 4374 4464 4427"
            ]
          },
          "metadata": {}
        }
      ]
    },
    {
      "cell_type": "markdown",
      "source": [
        "Con el método de correlación de Spearman podemos determinar que el tipo de ataque y el nivel de severidad están muy débilmente relacionados, siendo prácticamente nula la relación con un valor de correlación de -0.0007."
      ],
      "metadata": {
        "id": "qspdGlsn7juE"
      }
    },
    {
      "cell_type": "code",
      "source": [
        "cor(x = Attack.Type.Num, y = Severity.Level.Num, method = \"spearman\")"
      ],
      "metadata": {
        "colab": {
          "base_uri": "https://localhost:8080/",
          "height": 34
        },
        "id": "FKiluUWHz8PK",
        "outputId": "dac52958-5047-45e2-b1f0-6ec78a98cd24"
      },
      "execution_count": null,
      "outputs": [
        {
          "output_type": "display_data",
          "data": {
            "text/html": [
              "-0.000739410972742373"
            ],
            "text/markdown": "-0.000739410972742373",
            "text/latex": "-0.000739410972742373",
            "text/plain": [
              "[1] -0.000739411"
            ]
          },
          "metadata": {}
        }
      ]
    },
    {
      "cell_type": "markdown",
      "source": [
        "Obtenemos un grafico de la cantidad de ataques por nivel de severidad\n",
        "\n",
        "- ¿Existe una correlación significativa entre el tipo de ataque y la severidad del incidente, y cómo varía esta relación entre diferentes tipos de ataques?"
      ],
      "metadata": {
        "id": "mt8-6T6X7oCq"
      }
    },
    {
      "cell_type": "code",
      "source": [
        "ggplot(data = df2, aes(x = Attack.Type.Num, fill = Severity.Level)) +\n",
        "    geom_bar(position = \"dodge\") +\n",
        "      stat_count(geom = \"text\",\n",
        "             aes(label = after_stat(count)),\n",
        "             position = position_dodge(width = 0.9), colour = \"black\")"
      ],
      "metadata": {
        "colab": {
          "base_uri": "https://localhost:8080/",
          "height": 437
        },
        "id": "MbjOc24W1BQ4",
        "outputId": "0b5c8a45-0633-4f76-9d6a-e88b0f9adf5f"
      },
      "execution_count": null,
      "outputs": [
        {
          "output_type": "display_data",
          "data": {
            "text/plain": [
              "plot without title"
            ],
            "image/png": "[encoded data removed]"
          },
          "metadata": {
            "image/png": {
              "width": 420,
              "height": 420
            }
          }
        }
      ]
    },
    {
      "cell_type": "markdown",
      "source": [
        "Para mayor comprensión obtenemos una pequeña descripcion de nuestros datos y podemos observar el promedio o mean."
      ],
      "metadata": {
        "id": "EcO5NBGL7wXX"
      }
    },
    {
      "cell_type": "code",
      "source": [
        "describe(df2)"
      ],
      "metadata": {
        "colab": {
          "base_uri": "https://localhost:8080/",
          "height": 224
        },
        "id": "yg3MnSp62gwp",
        "outputId": "acbf557a-c8eb-4b3b-8f90-c3006884115f"
      },
      "execution_count": null,
      "outputs": [
        {
          "output_type": "display_data",
          "data": {
            "text/html": [
              "<table class=\"dataframe\">\n",
              "<caption>A psych: 4 × 13</caption>\n",
              "<thead>\n",
              "\t<tr><th></th><th scope=col>vars</th><th scope=col>n</th><th scope=col>mean</th><th scope=col>sd</th><th scope=col>median</th><th scope=col>trimmed</th><th scope=col>mad</th><th scope=col>min</th><th scope=col>max</th><th scope=col>range</th><th scope=col>skew</th><th scope=col>kurtosis</th><th scope=col>se</th></tr>\n",
              "\t<tr><th></th><th scope=col>&lt;int&gt;</th><th scope=col>&lt;dbl&gt;</th><th scope=col>&lt;dbl&gt;</th><th scope=col>&lt;dbl&gt;</th><th scope=col>&lt;dbl&gt;</th><th scope=col>&lt;dbl&gt;</th><th scope=col>&lt;dbl&gt;</th><th scope=col>&lt;dbl&gt;</th><th scope=col>&lt;dbl&gt;</th><th scope=col>&lt;dbl&gt;</th><th scope=col>&lt;dbl&gt;</th><th scope=col>&lt;dbl&gt;</th><th scope=col>&lt;dbl&gt;</th></tr>\n",
              "</thead>\n",
              "<tbody>\n",
              "\t<tr><th scope=row>Timestamp*</th><td>1</td><td>40000</td><td>19999.394525</td><td>1.154594e+04</td><td>20000.5</td><td>1.999949e+04</td><td>14823.7761</td><td>1</td><td>39997</td><td>39996</td><td>-9.502404e-05</td><td>-1.200009</td><td>57.729711314</td></tr>\n",
              "\t<tr><th scope=row>Attack.Type.Num</th><td>2</td><td>40000</td><td>    0.998950</td><td>8.150555e-01</td><td>    1.0</td><td>9.986875e-01</td><td>    1.4826</td><td>0</td><td>    2</td><td>    2</td><td> 1.925450e-03</td><td>-1.494726</td><td> 0.004075278</td></tr>\n",
              "\t<tr><th scope=row>Severity.Level.Num</th><td>3</td><td>40000</td><td>    1.004975</td><td>8.149336e-01</td><td>    1.0</td><td>1.006219e+00</td><td>    1.4826</td><td>0</td><td>    2</td><td>    2</td><td>-9.121799e-03</td><td>-1.494223</td><td> 0.004074668</td></tr>\n",
              "\t<tr><th scope=row>Geo.location.Data*</th><td>4</td><td>40000</td><td> 4344.817325</td><td>2.522395e+03</td><td> 4329.0</td><td>4.341517e+03</td><td> 3243.1875</td><td>1</td><td> 8723</td><td> 8722</td><td> 9.880114e-03</td><td>-1.202552</td><td>12.611976673</td></tr>\n",
              "</tbody>\n",
              "</table>\n"
            ],
            "text/markdown": "\nA psych: 4 × 13\n\n| <!--/--> | vars &lt;int&gt; | n &lt;dbl&gt; | mean &lt;dbl&gt; | sd &lt;dbl&gt; | median &lt;dbl&gt; | trimmed &lt;dbl&gt; | mad &lt;dbl&gt; | min &lt;dbl&gt; | max &lt;dbl&gt; | range &lt;dbl&gt; | skew &lt;dbl&gt; | kurtosis &lt;dbl&gt; | se &lt;dbl&gt; |\n|---|---|---|---|---|---|---|---|---|---|---|---|---|---|\n| Timestamp* | 1 | 40000 | 19999.394525 | 1.154594e+04 | 20000.5 | 1.999949e+04 | 14823.7761 | 1 | 39997 | 39996 | -9.502404e-05 | -1.200009 | 57.729711314 |\n| Attack.Type.Num | 2 | 40000 |     0.998950 | 8.150555e-01 |     1.0 | 9.986875e-01 |     1.4826 | 0 |     2 |     2 |  1.925450e-03 | -1.494726 |  0.004075278 |\n| Severity.Level.Num | 3 | 40000 |     1.004975 | 8.149336e-01 |     1.0 | 1.006219e+00 |     1.4826 | 0 |     2 |     2 | -9.121799e-03 | -1.494223 |  0.004074668 |\n| Geo.location.Data* | 4 | 40000 |  4344.817325 | 2.522395e+03 |  4329.0 | 4.341517e+03 |  3243.1875 | 1 |  8723 |  8722 |  9.880114e-03 | -1.202552 | 12.611976673 |\n\n",
            "text/latex": "A psych: 4 × 13\n\\begin{tabular}{r|lllllllllllll}\n  & vars & n & mean & sd & median & trimmed & mad & min & max & range & skew & kurtosis & se\\\\\n  & <int> & <dbl> & <dbl> & <dbl> & <dbl> & <dbl> & <dbl> & <dbl> & <dbl> & <dbl> & <dbl> & <dbl> & <dbl>\\\\\n\\hline\n\tTimestamp* & 1 & 40000 & 19999.394525 & 1.154594e+04 & 20000.5 & 1.999949e+04 & 14823.7761 & 1 & 39997 & 39996 & -9.502404e-05 & -1.200009 & 57.729711314\\\\\n\tAttack.Type.Num & 2 & 40000 &     0.998950 & 8.150555e-01 &     1.0 & 9.986875e-01 &     1.4826 & 0 &     2 &     2 &  1.925450e-03 & -1.494726 &  0.004075278\\\\\n\tSeverity.Level.Num & 3 & 40000 &     1.004975 & 8.149336e-01 &     1.0 & 1.006219e+00 &     1.4826 & 0 &     2 &     2 & -9.121799e-03 & -1.494223 &  0.004074668\\\\\n\tGeo.location.Data* & 4 & 40000 &  4344.817325 & 2.522395e+03 &  4329.0 & 4.341517e+03 &  3243.1875 & 1 &  8723 &  8722 &  9.880114e-03 & -1.202552 & 12.611976673\\\\\n\\end{tabular}\n",
            "text/plain": [
              "                   vars n     mean         sd           median  trimmed     \n",
              "Timestamp*         1    40000 19999.394525 1.154594e+04 20000.5 1.999949e+04\n",
              "Attack.Type.Num    2    40000     0.998950 8.150555e-01     1.0 9.986875e-01\n",
              "Severity.Level.Num 3    40000     1.004975 8.149336e-01     1.0 1.006219e+00\n",
              "Geo.location.Data* 4    40000  4344.817325 2.522395e+03  4329.0 4.341517e+03\n",
              "                   mad        min max   range skew          kurtosis \n",
              "Timestamp*         14823.7761 1   39997 39996 -9.502404e-05 -1.200009\n",
              "Attack.Type.Num        1.4826 0       2     2  1.925450e-03 -1.494726\n",
              "Severity.Level.Num     1.4826 0       2     2 -9.121799e-03 -1.494223\n",
              "Geo.location.Data*  3243.1875 1    8723  8722  9.880114e-03 -1.202552\n",
              "                   se          \n",
              "Timestamp*         57.729711314\n",
              "Attack.Type.Num     0.004075278\n",
              "Severity.Level.Num  0.004074668\n",
              "Geo.location.Data* 12.611976673"
            ]
          },
          "metadata": {}
        }
      ]
    }
  ]
}